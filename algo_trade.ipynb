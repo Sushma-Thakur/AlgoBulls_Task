{
 "cells": [
  {
   "cell_type": "code",
   "execution_count": 1,
   "metadata": {},
   "outputs": [],
   "source": [
    "import pandas as pd\n",
    "from alpha_vantage.timeseries import TimeSeries"
   ]
  },
  {
   "cell_type": "code",
   "execution_count": 70,
   "metadata": {},
   "outputs": [],
   "source": [
    "class ScriptData:\n",
    "    def __init__(self):\n",
    "        self.data={}\n",
    "    def fetch_intraday_data(self,symbol):\n",
    "        self.symbol = symbol\n",
    "        ts = TimeSeries(key='TZC4MVZ8NEY5J1WJ')\n",
    "        self.data, meta_data = ts.get_intraday(self.symbol)\n",
    "        # print(self.data)\n",
    "    def convert_intraday_data(self,symbol):\n",
    "\n",
    "        df = pd.DataFrame(columns = [\"Timestamp\" , \"Open\" , \"High\" , \"Low\" , \"Close\" , \"Volumn\"])\n",
    "        for i in self.data:\n",
    "            df = df.append({\"Timestamp\" : pd.Timestamp(i), \"Open\" : self.data[i][\"1. open\"] , \"High\" : self.data[i][\"2. high\"] , \"Low\" : self.data[i][\"3. low\"] , \"Close\" : self.data[i][\"4. close\"] , \"Volumn\" : self.data[i][\"5. volume\"]},ignore_index=True)\n",
    "        \n",
    "        df[\"Open\"] = df[\"Open\"].astype(float)\n",
    "        df[\"High\"] = df[\"High\"].astype(float)\n",
    "        df[\"Low\"] = df[\"Low\"].astype(float)\n",
    "        df[\"Close\"] = df[\"Close\"].astype(float)\n",
    "        df[\"Volumn\"] = df[\"Volumn\"].astype(int)\n",
    "        return(df)\n",
    "        "
   ]
  },
  {
   "cell_type": "code",
   "execution_count": null,
   "metadata": {},
   "outputs": [],
   "source": [
    "script_data = ScriptData()\n",
    "script_data.fetch_intraday_data(\"GOOGL\")\n",
    "script_df = script_data.convert_intraday_data(\"GOOGL\")\n",
    "script_df"
   ]
  },
  {
   "cell_type": "code",
   "execution_count": 72,
   "metadata": {},
   "outputs": [],
   "source": [
    "def indicator1(inp_df , timeperiod):\n",
    "    out_df = pd.DataFrame(columns=[\"Timestamp\" , \"Indicator\"])\n",
    "    out_df[\"Timestamp\"] = inp_df[\"Timestamp\"]\n",
    "    out_df[\"Indicator\"] = inp_df[\"Close\"].rolling(timeperiod).mean()\n",
    "    return(out_df)"
   ]
  },
  {
   "cell_type": "code",
   "execution_count": null,
   "metadata": {},
   "outputs": [],
   "source": [
    "indicator1(script_df,timeperiod=5)"
   ]
  },
  {
   "cell_type": "code",
   "execution_count": 89,
   "metadata": {},
   "outputs": [],
   "source": [
    "class Strategy(ScriptData):\n",
    "    def get_script_data(self,symbol):\n",
    "        self.symbol = symbol \n",
    "        super().fetch_intraday_data(self.symbol)\n",
    "        super().convert_intraday_data(self.symbol)\n",
    "    def get_signal(self):\n",
    "        self.fetch_intraday_data(self.symbol)\n",
    "        self.intraday_data_df = self.convert_intraday_data(self.symbol)\n",
    "        timestamp = list(self.intraday_data_df[\"Timestamp\"])\n",
    "        close_data = list(self.intraday_data_df[\"Close\"])\n",
    "        \n",
    "        indicator_df =list(indicator1(self.intraday_data_df,timeperiod=5)[\"Indicator\"])\n",
    "        \n",
    "        signal_list = []\n",
    "        for i in range(len(indicator_df)):\n",
    "            if(round(close_data[i],0) == round(indicator_df[i],0) and round(close_data[i],0) ) < round(indicator_df[i],0):\n",
    "                signal_list.append(\"BUY\")\n",
    "            elif(round(close_data[i],0) == round(indicator_df[i],0) and round(close_data[i],0) ) < round(indicator_df[i],0):\n",
    "                signal_list.append(\"SELL\")\n",
    "            else:\n",
    "                signal_list.append(\"NO SIGNAL\")\n",
    "        \n",
    "        signals = pd.DataFrame(list(zip(timestamp,signal_list)),columns=[\"Timestamp\",\"Signal\"])\n",
    "        \n",
    "        signals = signals[signals[\"Signal\"]!=\"NO SIGNAL\"]\n",
    "        return(signals)\n"
   ]
  },
  {
   "cell_type": "code",
   "execution_count": null,
   "metadata": {},
   "outputs": [],
   "source": [
    "a = Strategy()\n",
    "a.get_script_data(\"GOOGL\")\n",
    "a.get_signal()"
   ]
  }
 ],
 "metadata": {
  "interpreter": {
   "hash": "78597305f28cc7dd3fdd6763f4f42af2e4c2a8d026204973dea3cfbe03b746bf"
  },
  "kernelspec": {
   "display_name": "Python 3.8.8 64-bit ('base': conda)",
   "language": "python",
   "name": "python3"
  },
  "language_info": {
   "codemirror_mode": {
    "name": "ipython",
    "version": 3
   },
   "file_extension": ".py",
   "mimetype": "text/x-python",
   "name": "python",
   "nbconvert_exporter": "python",
   "pygments_lexer": "ipython3",
   "version": "3.8.8"
  },
  "orig_nbformat": 4
 },
 "nbformat": 4,
 "nbformat_minor": 2
}
